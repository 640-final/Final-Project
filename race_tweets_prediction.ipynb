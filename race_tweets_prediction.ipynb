{
 "cells": [
  {
   "cell_type": "code",
   "execution_count": 1,
   "id": "0ab2678d",
   "metadata": {},
   "outputs": [],
   "source": [
    "import pandas as pd\n",
    "import numpy as np\n",
    "import seaborn as sns\n",
    "import re\n",
    "import cv2\n",
    "from sklearn.feature_extraction.text import TfidfVectorizer\n",
    "from sklearn.feature_extraction import text\n",
    "from sklearn.metrics import mean_squared_error, confusion_matrix\n",
    "from sklearn.model_selection import train_test_split, GridSearchCV, KFold\n",
    "from sklearn.linear_model import LinearRegression, LogisticRegression\n",
    "from sklearn.metrics import classification_report\n",
    "from sklearn.linear_model import SGDRegressor\n",
    "import matplotlib.pyplot as plt\n",
    "from sklearn.naive_bayes import ComplementNB\n",
    "# import tensorflow as tf\n",
    "import imblearn\n",
    "from imblearn.over_sampling import SMOTE\n",
    "stopwords = text.ENGLISH_STOP_WORDS"
   ]
  },
  {
   "cell_type": "code",
   "execution_count": 2,
   "id": "b8d57fb4",
   "metadata": {},
   "outputs": [
    {
     "data": {
      "text/html": [
       "<div>\n",
       "<style scoped>\n",
       "    .dataframe tbody tr th:only-of-type {\n",
       "        vertical-align: middle;\n",
       "    }\n",
       "\n",
       "    .dataframe tbody tr th {\n",
       "        vertical-align: top;\n",
       "    }\n",
       "\n",
       "    .dataframe thead th {\n",
       "        text-align: right;\n",
       "    }\n",
       "</style>\n",
       "<table border=\"1\" class=\"dataframe\">\n",
       "  <thead>\n",
       "    <tr style=\"text-align: right;\">\n",
       "      <th></th>\n",
       "      <th>Unnamed: 0</th>\n",
       "      <th>id</th>\n",
       "      <th>tweets</th>\n",
       "      <th>name</th>\n",
       "      <th>screen_name</th>\n",
       "      <th>description</th>\n",
       "      <th>img_path</th>\n",
       "      <th>is_female</th>\n",
       "      <th>year_born</th>\n",
       "      <th>race</th>\n",
       "    </tr>\n",
       "  </thead>\n",
       "  <tbody>\n",
       "    <tr>\n",
       "      <th>0</th>\n",
       "      <td>0</td>\n",
       "      <td>12488</td>\n",
       "      <td>['YKAR, a futuristic sans serif font by @Emmer...</td>\n",
       "      <td>Chad Boyce</td>\n",
       "      <td>djsnipa1</td>\n",
       "      <td>Multimedia Developer, Graphic Designer, DJ, an...</td>\n",
       "      <td>profile pics/60147.jpeg</td>\n",
       "      <td>0.0</td>\n",
       "      <td>1980.0</td>\n",
       "      <td>4.0</td>\n",
       "    </tr>\n",
       "    <tr>\n",
       "      <th>1</th>\n",
       "      <td>1</td>\n",
       "      <td>719703</td>\n",
       "      <td>['In other words, it’s good news about the vac...</td>\n",
       "      <td>Tomato 😷</td>\n",
       "      <td>Tomato</td>\n",
       "      <td>🇭🇰Rise Up!</td>\n",
       "      <td>profile pics/60148.jpeg</td>\n",
       "      <td>0.0</td>\n",
       "      <td>1985.0</td>\n",
       "      <td>4.0</td>\n",
       "    </tr>\n",
       "    <tr>\n",
       "      <th>2</th>\n",
       "      <td>2</td>\n",
       "      <td>749003</td>\n",
       "      <td>['would it be fair to call lil nas x the first...</td>\n",
       "      <td>A ring made from a spoon --- E83.31</td>\n",
       "      <td>IYQbd</td>\n",
       "      <td>Has the kind of luck that turns a professional...</td>\n",
       "      <td>profile pics/60150.jpeg</td>\n",
       "      <td>0.0</td>\n",
       "      <td>1982.0</td>\n",
       "      <td>5.0</td>\n",
       "    </tr>\n",
       "    <tr>\n",
       "      <th>3</th>\n",
       "      <td>3</td>\n",
       "      <td>822540</td>\n",
       "      <td>['@Asmongold ❤️ 🙏', '@Hunter4J @Wario64 bonk',...</td>\n",
       "      <td>parker</td>\n",
       "      <td>parker</td>\n",
       "      <td>gotta go fast</td>\n",
       "      <td>profile pics/60153.jpeg</td>\n",
       "      <td>0.0</td>\n",
       "      <td>1979.0</td>\n",
       "      <td>4.0</td>\n",
       "    </tr>\n",
       "    <tr>\n",
       "      <th>4</th>\n",
       "      <td>4</td>\n",
       "      <td>865071</td>\n",
       "      <td>['@robo_james How about pizza dipped in water ...</td>\n",
       "      <td>Kevin Jones</td>\n",
       "      <td>kevinj</td>\n",
       "      <td>NaN</td>\n",
       "      <td>profile pics/60154.jpeg</td>\n",
       "      <td>0.0</td>\n",
       "      <td>1995.0</td>\n",
       "      <td>4.0</td>\n",
       "    </tr>\n",
       "  </tbody>\n",
       "</table>\n",
       "</div>"
      ],
      "text/plain": [
       "   Unnamed: 0      id                                             tweets  \\\n",
       "0           0   12488  ['YKAR, a futuristic sans serif font by @Emmer...   \n",
       "1           1  719703  ['In other words, it’s good news about the vac...   \n",
       "2           2  749003  ['would it be fair to call lil nas x the first...   \n",
       "3           3  822540  ['@Asmongold ❤️ 🙏', '@Hunter4J @Wario64 bonk',...   \n",
       "4           4  865071  ['@robo_james How about pizza dipped in water ...   \n",
       "\n",
       "                                  name screen_name  \\\n",
       "0                           Chad Boyce    djsnipa1   \n",
       "1                             Tomato 😷      Tomato   \n",
       "2  A ring made from a spoon --- E83.31       IYQbd   \n",
       "3                               parker      parker   \n",
       "4                          Kevin Jones      kevinj   \n",
       "\n",
       "                                         description                 img_path  \\\n",
       "0  Multimedia Developer, Graphic Designer, DJ, an...  profile pics/60147.jpeg   \n",
       "1                                         🇭🇰Rise Up!  profile pics/60148.jpeg   \n",
       "2  Has the kind of luck that turns a professional...  profile pics/60150.jpeg   \n",
       "3                                      gotta go fast  profile pics/60153.jpeg   \n",
       "4                                                NaN  profile pics/60154.jpeg   \n",
       "\n",
       "   is_female  year_born  race  \n",
       "0        0.0     1980.0   4.0  \n",
       "1        0.0     1985.0   4.0  \n",
       "2        0.0     1982.0   5.0  \n",
       "3        0.0     1979.0   4.0  \n",
       "4        0.0     1995.0   4.0  "
      ]
     },
     "execution_count": 2,
     "metadata": {},
     "output_type": "execute_result"
    }
   ],
   "source": [
    "data = pd.read_csv(\"data_race_pred.csv\")\n",
    "data[:5]"
   ]
  },
  {
   "cell_type": "code",
   "execution_count": 3,
   "id": "656ee9db",
   "metadata": {},
   "outputs": [],
   "source": [
    "def preprocess(data):\n",
    "    t = data\n",
    "    t = t.lower() # lower letters\n",
    "    t = re.sub(r'http\\S+', '', t) # remove HTTP links\n",
    "    t = re.sub(r'@[^\\s]+', '', t) # remove usernames\n",
    "    t = re.sub(r'#[^\\s]+', '', t) # remove hashtags\n",
    "    t = re.sub(r'([\\'\\\"\\.\\(\\)\\!\\?\\\\\\/\\,])', r' \\1 ', t)\n",
    "    t = re.sub(r'[^\\w\\s\\?]', '', t) # remove punctuations except ?\n",
    "    t = ' '.join([word for word in t.split() if word not in stopwords]) # remove stopwords\n",
    "    return t"
   ]
  },
  {
   "cell_type": "code",
   "execution_count": 4,
   "id": "2df40afd",
   "metadata": {},
   "outputs": [
    {
     "data": {
      "text/html": [
       "<div>\n",
       "<style scoped>\n",
       "    .dataframe tbody tr th:only-of-type {\n",
       "        vertical-align: middle;\n",
       "    }\n",
       "\n",
       "    .dataframe tbody tr th {\n",
       "        vertical-align: top;\n",
       "    }\n",
       "\n",
       "    .dataframe thead th {\n",
       "        text-align: right;\n",
       "    }\n",
       "</style>\n",
       "<table border=\"1\" class=\"dataframe\">\n",
       "  <thead>\n",
       "    <tr style=\"text-align: right;\">\n",
       "      <th></th>\n",
       "      <th>Unnamed: 0</th>\n",
       "      <th>id</th>\n",
       "      <th>tweets</th>\n",
       "      <th>name</th>\n",
       "      <th>screen_name</th>\n",
       "      <th>description</th>\n",
       "      <th>img_path</th>\n",
       "      <th>is_female</th>\n",
       "      <th>year_born</th>\n",
       "      <th>race</th>\n",
       "    </tr>\n",
       "  </thead>\n",
       "  <tbody>\n",
       "    <tr>\n",
       "      <th>0</th>\n",
       "      <td>0</td>\n",
       "      <td>12488</td>\n",
       "      <td>ykar futuristic sans serif font contact rude p...</td>\n",
       "      <td>Chad Boyce</td>\n",
       "      <td>djsnipa1</td>\n",
       "      <td>Multimedia Developer, Graphic Designer, DJ, an...</td>\n",
       "      <td>profile pics/60147.jpeg</td>\n",
       "      <td>0.0</td>\n",
       "      <td>1980.0</td>\n",
       "      <td>4</td>\n",
       "    </tr>\n",
       "    <tr>\n",
       "      <th>1</th>\n",
       "      <td>1</td>\n",
       "      <td>719703</td>\n",
       "      <td>words good news vaccines safety media misrepre...</td>\n",
       "      <td>Tomato 😷</td>\n",
       "      <td>Tomato</td>\n",
       "      <td>🇭🇰Rise Up!</td>\n",
       "      <td>profile pics/60148.jpeg</td>\n",
       "      <td>0.0</td>\n",
       "      <td>1985.0</td>\n",
       "      <td>4</td>\n",
       "    </tr>\n",
       "    <tr>\n",
       "      <th>3</th>\n",
       "      <td>3</td>\n",
       "      <td>822540</td>\n",
       "      <td>bonk nice ed mcboy oos getting real tired game...</td>\n",
       "      <td>parker</td>\n",
       "      <td>parker</td>\n",
       "      <td>gotta go fast</td>\n",
       "      <td>profile pics/60153.jpeg</td>\n",
       "      <td>0.0</td>\n",
       "      <td>1979.0</td>\n",
       "      <td>4</td>\n",
       "    </tr>\n",
       "    <tr>\n",
       "      <th>7</th>\n",
       "      <td>7</td>\n",
       "      <td>1143891</td>\n",
       "      <td>piano transcription adagietto mahler 5th littl...</td>\n",
       "      <td>Ian Hsu</td>\n",
       "      <td>IanHsu</td>\n",
       "      <td>Proud papa, intrepid explorer, loves slow-cook...</td>\n",
       "      <td>profile pics/60157.jpeg</td>\n",
       "      <td>0.0</td>\n",
       "      <td>1976.0</td>\n",
       "      <td>3</td>\n",
       "    </tr>\n",
       "    <tr>\n",
       "      <th>8</th>\n",
       "      <td>8</td>\n",
       "      <td>1191741</td>\n",
       "      <td>tell em n n levar burton longer interested hos...</td>\n",
       "      <td>~JOSh-X</td>\n",
       "      <td>lightmanx5</td>\n",
       "      <td>if BlackLives.Matter then AllLives.Matter = T;...</td>\n",
       "      <td>profile pics/60158.jpeg</td>\n",
       "      <td>0.0</td>\n",
       "      <td>1973.0</td>\n",
       "      <td>4</td>\n",
       "    </tr>\n",
       "  </tbody>\n",
       "</table>\n",
       "</div>"
      ],
      "text/plain": [
       "   Unnamed: 0       id                                             tweets  \\\n",
       "0           0    12488  ykar futuristic sans serif font contact rude p...   \n",
       "1           1   719703  words good news vaccines safety media misrepre...   \n",
       "3           3   822540  bonk nice ed mcboy oos getting real tired game...   \n",
       "7           7  1143891  piano transcription adagietto mahler 5th littl...   \n",
       "8           8  1191741  tell em n n levar burton longer interested hos...   \n",
       "\n",
       "         name screen_name                                        description  \\\n",
       "0  Chad Boyce    djsnipa1  Multimedia Developer, Graphic Designer, DJ, an...   \n",
       "1    Tomato 😷      Tomato                                         🇭🇰Rise Up!   \n",
       "3      parker      parker                                      gotta go fast   \n",
       "7     Ian Hsu      IanHsu  Proud papa, intrepid explorer, loves slow-cook...   \n",
       "8     ~JOSh-X  lightmanx5  if BlackLives.Matter then AllLives.Matter = T;...   \n",
       "\n",
       "                  img_path  is_female  year_born  race  \n",
       "0  profile pics/60147.jpeg        0.0     1980.0     4  \n",
       "1  profile pics/60148.jpeg        0.0     1985.0     4  \n",
       "3  profile pics/60153.jpeg        0.0     1979.0     4  \n",
       "7  profile pics/60157.jpeg        0.0     1976.0     3  \n",
       "8  profile pics/60158.jpeg        0.0     1973.0     4  "
      ]
     },
     "execution_count": 4,
     "metadata": {},
     "output_type": "execute_result"
    }
   ],
   "source": [
    "data.replace([np.inf, -np.inf], np.nan, inplace=True)\n",
    "data = data.dropna()\n",
    "data[\"race\"] = data[\"race\"].astype(int)\n",
    "data = data.drop(data[data[\"race\"] == 5].index)\n",
    "data[\"tweets\"] = data[\"tweets\"].apply(preprocess)\n",
    "data[:5]"
   ]
  },
  {
   "cell_type": "code",
   "execution_count": 5,
   "id": "a6d12d0b",
   "metadata": {},
   "outputs": [
    {
     "data": {
      "text/plain": [
       "4    1889\n",
       "1     236\n",
       "2     153\n",
       "3      75\n",
       "Name: race, dtype: int64"
      ]
     },
     "execution_count": 5,
     "metadata": {},
     "output_type": "execute_result"
    }
   ],
   "source": [
    "data[\"race\"].value_counts()"
   ]
  },
  {
   "cell_type": "markdown",
   "id": "0d8be33f",
   "metadata": {},
   "source": [
    "# Try Muiltiple Models"
   ]
  },
  {
   "cell_type": "code",
   "execution_count": 6,
   "id": "2caaf833",
   "metadata": {},
   "outputs": [],
   "source": [
    "tfidf = TfidfVectorizer(max_features = 7500, ngram_range=(1,2))\n",
    "X = tfidf.fit_transform(data['tweets'])\n",
    "y = data['race']\n",
    "X_train, X_test, y_train, y_test = train_test_split(X, y, test_size=1/4.0, random_state=0)"
   ]
  },
  {
   "cell_type": "code",
   "execution_count": 7,
   "id": "1af3cebd",
   "metadata": {},
   "outputs": [
    {
     "name": "stdout",
     "output_type": "stream",
     "text": [
      "{1, 2, 3, 4}\n"
     ]
    }
   ],
   "source": [
    "reg = LinearRegression().fit(X_train, y_train)\n",
    "y_pred = reg.predict(X_test)\n",
    "\n",
    "y_pred = [round(x) for x in y_pred] \n",
    "for index in range(len(y_pred)): \n",
    "    if y_pred[index] < 1:\n",
    "        y_pred[index] = 1\n",
    "    if y_pred[index] > 4:\n",
    "        y_pred[index] = 4\n",
    "\n",
    "print(set(y_pred))"
   ]
  },
  {
   "cell_type": "code",
   "execution_count": 8,
   "id": "07c8a127",
   "metadata": {},
   "outputs": [
    {
     "name": "stdout",
     "output_type": "stream",
     "text": [
      "              precision    recall  f1-score   support\n",
      "\n",
      "           1       0.33      0.04      0.06        57\n",
      "           2       0.18      0.29      0.22        35\n",
      "           3       0.04      0.40      0.07        20\n",
      "           4       0.89      0.59      0.71       477\n",
      "\n",
      "    accuracy                           0.51       589\n",
      "   macro avg       0.36      0.33      0.27       589\n",
      "weighted avg       0.77      0.51      0.60       589\n",
      "\n",
      "RMSE on testing set =  1.0305602716468591\n"
     ]
    },
    {
     "data": {
      "text/plain": [
       "<AxesSubplot:>"
      ]
     },
     "execution_count": 8,
     "metadata": {},
     "output_type": "execute_result"
    },
    {
     "data": {
      "image/png": "[encoded data removed]",
      "text/plain": [
       "<Figure size 432x288 with 2 Axes>"
      ]
     },
     "metadata": {
      "needs_background": "light"
     },
     "output_type": "display_data"
    }
   ],
   "source": [
    "print(classification_report(y_test, y_pred))\n",
    "\n",
    "print(\"RMSE on testing set = \", mean_squared_error(y_test, y_pred))\n",
    "\n",
    "# Plot a confusion matrix\n",
    "cm = confusion_matrix(y_test, y_pred, normalize='true')\n",
    "sns.heatmap(cm, annot=True)"
   ]
  },
  {
   "cell_type": "code",
   "execution_count": 9,
   "id": "b040847e",
   "metadata": {},
   "outputs": [
    {
     "name": "stdout",
     "output_type": "stream",
     "text": [
      "{1, 4}\n"
     ]
    }
   ],
   "source": [
    "log = LogisticRegression(multi_class='multinomial', solver='lbfgs').fit(X_train, y_train)\n",
    "y_pred = log.predict(X_test)\n",
    "\n",
    "y_pred = [round(x) for x in y_pred] \n",
    "for index in range(len(y_pred)): \n",
    "    if y_pred[index] < 1:\n",
    "        y_pred[index] = 1\n",
    "    if y_pred[index] > 4:\n",
    "        y_pred[index] = 4\n",
    "\n",
    "print(set(y_pred))"
   ]
  },
  {
   "cell_type": "code",
   "execution_count": 10,
   "id": "c1bd3b1d",
   "metadata": {},
   "outputs": [
    {
     "name": "stdout",
     "output_type": "stream",
     "text": [
      "              precision    recall  f1-score   support\n",
      "\n",
      "           1       0.75      0.05      0.10        57\n",
      "           2       0.00      0.00      0.00        35\n",
      "           3       0.00      0.00      0.00        20\n",
      "           4       0.82      1.00      0.90       477\n",
      "\n",
      "    accuracy                           0.81       589\n",
      "   macro avg       0.39      0.26      0.25       589\n",
      "weighted avg       0.73      0.81      0.74       589\n",
      "\n",
      "RMSE on testing set =  1.0916808149405772\n"
     ]
    },
    {
     "name": "stderr",
     "output_type": "stream",
     "text": [
      "/opt/anaconda3/lib/python3.8/site-packages/sklearn/metrics/_classification.py:1308: UndefinedMetricWarning: Precision and F-score are ill-defined and being set to 0.0 in labels with no predicted samples. Use `zero_division` parameter to control this behavior.\n",
      "  _warn_prf(average, modifier, msg_start, len(result))\n",
      "/opt/anaconda3/lib/python3.8/site-packages/sklearn/metrics/_classification.py:1308: UndefinedMetricWarning: Precision and F-score are ill-defined and being set to 0.0 in labels with no predicted samples. Use `zero_division` parameter to control this behavior.\n",
      "  _warn_prf(average, modifier, msg_start, len(result))\n",
      "/opt/anaconda3/lib/python3.8/site-packages/sklearn/metrics/_classification.py:1308: UndefinedMetricWarning: Precision and F-score are ill-defined and being set to 0.0 in labels with no predicted samples. Use `zero_division` parameter to control this behavior.\n",
      "  _warn_prf(average, modifier, msg_start, len(result))\n"
     ]
    },
    {
     "data": {
      "text/plain": [
       "<AxesSubplot:>"
      ]
     },
     "execution_count": 10,
     "metadata": {},
     "output_type": "execute_result"
    },
    {
     "data": {
      "image/png": "[encoded data removed]",
      "text/plain": [
       "<Figure size 432x288 with 2 Axes>"
      ]
     },
     "metadata": {
      "needs_background": "light"
     },
     "output_type": "display_data"
    }
   ],
   "source": [
    "print(classification_report(y_test, y_pred))\n",
    "\n",
    "print(\"RMSE on testing set = \", mean_squared_error(y_test, y_pred))\n",
    "\n",
    "# Plot a confusion matrix\n",
    "cm = confusion_matrix(y_test, y_pred, normalize='true')\n",
    "sns.heatmap(cm, annot=True)"
   ]
  },
  {
   "cell_type": "code",
   "execution_count": 11,
   "id": "69774054",
   "metadata": {},
   "outputs": [
    {
     "data": {
      "text/plain": [
       "{2, 3}"
      ]
     },
     "execution_count": 11,
     "metadata": {},
     "output_type": "execute_result"
    }
   ],
   "source": [
    "set(y_test) - set(y_pred)"
   ]
  },
  {
   "cell_type": "code",
   "execution_count": 12,
   "id": "4a3cc3e4",
   "metadata": {},
   "outputs": [],
   "source": [
    "# naive Bayes\n",
    "clf = ComplementNB().fit(X_train, y_train)\n",
    "y_pred = clf.predict(X_test)\n",
    "\n",
    "y_pred = [round(x) for x in y_pred] \n",
    "for index in range(len(y_pred)): \n",
    "    if y_pred[index] < 1:\n",
    "        y_pred[index] = 1\n",
    "    if y_pred[index] > 4:\n",
    "        y_pred[index] = 4"
   ]
  },
  {
   "cell_type": "code",
   "execution_count": 13,
   "id": "5902390b",
   "metadata": {},
   "outputs": [
    {
     "name": "stdout",
     "output_type": "stream",
     "text": [
      "              precision    recall  f1-score   support\n",
      "\n",
      "           1       0.37      0.12      0.18        57\n",
      "           2       0.06      0.03      0.04        35\n",
      "           3       0.10      0.10      0.10        20\n",
      "           4       0.82      0.91      0.86       477\n",
      "\n",
      "    accuracy                           0.76       589\n",
      "   macro avg       0.34      0.29      0.30       589\n",
      "weighted avg       0.71      0.76      0.72       589\n",
      "\n",
      "RMSE on testing set =  1.2648556876061121\n"
     ]
    },
    {
     "data": {
      "text/plain": [
       "<AxesSubplot:>"
      ]
     },
     "execution_count": 13,
     "metadata": {},
     "output_type": "execute_result"
    },
    {
     "data": {
      "image/png": "[encoded data removed]",
      "text/plain": [
       "<Figure size 432x288 with 2 Axes>"
      ]
     },
     "metadata": {
      "needs_background": "light"
     },
     "output_type": "display_data"
    }
   ],
   "source": [
    "print(classification_report(y_test, y_pred))\n",
    "\n",
    "print(\"RMSE on testing set = \", mean_squared_error(y_test, y_pred))\n",
    "\n",
    "# Plot a confusion matrix\n",
    "cm = confusion_matrix(y_test, y_pred, normalize='true')\n",
    "sns.heatmap(cm, annot=True)"
   ]
  },
  {
   "cell_type": "markdown",
   "id": "3ad661d0",
   "metadata": {},
   "source": [
    "# Apply Oversampling"
   ]
  },
  {
   "cell_type": "code",
   "execution_count": 14,
   "id": "431ab7a2",
   "metadata": {},
   "outputs": [],
   "source": [
    "X = tfidf.fit_transform(data['tweets'])\n",
    "y = data['race']\n",
    "X_train, X_test, y_train, y_test = train_test_split(X, y, test_size=1/4.0, random_state=0)"
   ]
  },
  {
   "cell_type": "code",
   "execution_count": 15,
   "id": "56f25783",
   "metadata": {},
   "outputs": [
    {
     "name": "stdout",
     "output_type": "stream",
     "text": [
      "4    1412\n",
      "2    1412\n",
      "1    1412\n",
      "3    1412\n",
      "Name: race, dtype: int64\n"
     ]
    }
   ],
   "source": [
    "oversample = SMOTE()\n",
    "X_train, y_train = oversample.fit_resample(X_train, y_train)\n",
    "print(y_train.value_counts())\n",
    "log = LogisticRegression(multi_class='multinomial', solver='lbfgs').fit(X_train, y_train)\n",
    "y_pred = log.predict(X_test)"
   ]
  },
  {
   "cell_type": "code",
   "execution_count": 16,
   "id": "f115bf43",
   "metadata": {},
   "outputs": [],
   "source": [
    "y_pred = [round(x) for x in y_pred] \n",
    "for index in range(len(y_pred)): \n",
    "    if y_pred[index] < 1:\n",
    "        y_pred[index] = 1\n",
    "    if y_pred[index] > 4:\n",
    "        y_pred[index] = 4"
   ]
  },
  {
   "cell_type": "code",
   "execution_count": 17,
   "id": "fb45a9ca",
   "metadata": {},
   "outputs": [
    {
     "name": "stdout",
     "output_type": "stream",
     "text": [
      "              precision    recall  f1-score   support\n",
      "\n",
      "           1       0.39      0.49      0.44        57\n",
      "           2       0.28      0.20      0.23        35\n",
      "           3       0.00      0.00      0.00        20\n",
      "           4       0.87      0.90      0.89       477\n",
      "\n",
      "    accuracy                           0.79       589\n",
      "   macro avg       0.39      0.40      0.39       589\n",
      "weighted avg       0.76      0.79      0.77       589\n",
      "\n",
      "RMSE on testing set =  1.2359932088285228\n"
     ]
    },
    {
     "data": {
      "text/plain": [
       "<AxesSubplot:>"
      ]
     },
     "execution_count": 17,
     "metadata": {},
     "output_type": "execute_result"
    },
    {
     "data": {
      "image/png": "[encoded data removed]",
      "text/plain": [
       "<Figure size 432x288 with 2 Axes>"
      ]
     },
     "metadata": {
      "needs_background": "light"
     },
     "output_type": "display_data"
    }
   ],
   "source": [
    "print(classification_report(y_test, y_pred))\n",
    "print(\"RMSE on testing set = \", mean_squared_error(y_test, y_pred))\n",
    "\n",
    "# Plot a confusion matrix\n",
    "cm = confusion_matrix(y_test, y_pred, normalize='true')\n",
    "sns.heatmap(cm, annot=True)"
   ]
  },
  {
   "cell_type": "code",
   "execution_count": 18,
   "id": "56e5c572",
   "metadata": {},
   "outputs": [
    {
     "name": "stdout",
     "output_type": "stream",
     "text": [
      "              precision    recall  f1-score   support\n",
      "\n",
      "           1       0.35      0.53      0.42        57\n",
      "           2       0.20      0.23      0.21        35\n",
      "           3       0.12      0.20      0.15        20\n",
      "           4       0.88      0.79      0.84       477\n",
      "\n",
      "    accuracy                           0.71       589\n",
      "   macro avg       0.39      0.44      0.40       589\n",
      "weighted avg       0.76      0.71      0.73       589\n",
      "\n",
      "RMSE on testing set =  1.4855687606112054\n"
     ]
    },
    {
     "data": {
      "text/plain": [
       "<AxesSubplot:>"
      ]
     },
     "execution_count": 18,
     "metadata": {},
     "output_type": "execute_result"
    },
    {
     "data": {
      "image/png": "[encoded data removed]",
      "text/plain": [
       "<Figure size 432x288 with 2 Axes>"
      ]
     },
     "metadata": {
      "needs_background": "light"
     },
     "output_type": "display_data"
    }
   ],
   "source": [
    "# naive Bayes\n",
    "clf = ComplementNB().fit(X_train, y_train)\n",
    "y_pred = clf.predict(X_test)\n",
    "\n",
    "y_pred = [round(x) for x in y_pred] \n",
    "for index in range(len(y_pred)): \n",
    "    if y_pred[index] < 1:\n",
    "        y_pred[index] = 1\n",
    "    if y_pred[index] > 4:\n",
    "        y_pred[index] = 4\n",
    "\n",
    "print(classification_report(y_test, y_pred))\n",
    "print(\"RMSE on testing set = \", mean_squared_error(y_test, y_pred))\n",
    "\n",
    "# Plot a confusion matrix\n",
    "cm = confusion_matrix(y_test, y_pred, normalize='true')\n",
    "sns.heatmap(cm, annot=True)"
   ]
  }
 ],
 "metadata": {
  "kernelspec": {
   "display_name": "Python 3 (ipykernel)",
   "language": "python",
   "name": "python3"
  },
  "language_info": {
   "codemirror_mode": {
    "name": "ipython",
    "version": 3
   },
   "file_extension": ".py",
   "mimetype": "text/x-python",
   "name": "python",
   "nbconvert_exporter": "python",
   "pygments_lexer": "ipython3",
   "version": "3.8.12"
  }
 },
 "nbformat": 4,
 "nbformat_minor": 5
}
